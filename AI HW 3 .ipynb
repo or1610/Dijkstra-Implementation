{
 "cells": [
  {
   "cell_type": "markdown",
   "id": "cf22d723",
   "metadata": {},
   "source": [
    "# Python Implementation of Dijkstra\n",
    "## Or Attias HW part 3 - AI Course"
   ]
  },
  {
   "cell_type": "markdown",
   "id": "e2ac8d98",
   "metadata": {},
   "source": [
    "#### credit: https://www.geeksforgeeks.org/python-program-for-dijkstras-shortest-path-algorithm-greedy-algo-7/"
   ]
  },
  {
   "cell_type": "code",
   "execution_count": 1,
   "id": "85f95db5",
   "metadata": {},
   "outputs": [],
   "source": [
    "# Python program for Dijkstra's single\n",
    "# source shortest path algorithm. The program is\n",
    "# for adjacency matrix representation of the graph\n",
    "class Graph():\n",
    " \n",
    "    def __init__(self, vertices):\n",
    "        self.V = vertices\n",
    "        self.graph = [[0 for column in range(vertices)]\n",
    "                      for row in range(vertices)]\n",
    " \n",
    "    def printSolution(self, dist):\n",
    "        print(\"Vertex \\t Distance from Source\")\n",
    "        for node in range(self.V):\n",
    "            print(node, \"\\t\\t\", dist[node])\n",
    " \n",
    "    # A utility function to find the vertex with\n",
    "    # minimum distance value, from the set of vertices\n",
    "    # not yet included in shortest path tree\n",
    "    def minDistance(self, dist, sptSet):\n",
    " \n",
    "        # Initialize minimum distance for next node\n",
    "        min = 1e7\n",
    " \n",
    "        # Search not nearest vertex not in the\n",
    "        # shortest path tree\n",
    "        for v in range(self.V):\n",
    "            if dist[v] < min and sptSet[v] == False:\n",
    "                min = dist[v]\n",
    "                min_index = v\n",
    " \n",
    "        return min_index\n",
    " \n",
    "    # Function that implements Dijkstra's single source\n",
    "    # shortest path algorithm for a graph represented\n",
    "    # using adjacency matrix representation\n",
    "    def dijkstra(self, src):\n",
    " \n",
    "        dist = [1e7] * self.V\n",
    "        dist[src] = 0\n",
    "        sptSet = [False] * self.V\n",
    " \n",
    "        for cout in range(self.V):\n",
    " \n",
    "            # Pick the minimum distance vertex from\n",
    "            # the set of vertices not yet processed.\n",
    "            # u is always equal to src in first iteration\n",
    "            u = self.minDistance(dist, sptSet)\n",
    " \n",
    "            # Put the minimum distance vertex in the\n",
    "            # shortest path tree\n",
    "            sptSet[u] = True\n",
    " \n",
    "            # Update dist value of the adjacent vertices\n",
    "            # of the picked vertex only if the current\n",
    "            # distance is greater than new distance and\n",
    "            # the vertex in not in the shortest path tree\n",
    "            for v in range(self.V):\n",
    "                if (self.graph[u][v] > 0 and\n",
    "                   sptSet[v] == False and\n",
    "                   dist[v] > dist[u] + self.graph[u][v]):\n",
    "                    dist[v] = dist[u] + self.graph[u][v]\n",
    " \n",
    "        self.printSolution(dist)\n",
    " \n",
    " \n",
    "# This code is contributed by Divyanshu Mehta"
   ]
  },
  {
   "cell_type": "code",
   "execution_count": 2,
   "id": "75c0401d",
   "metadata": {},
   "outputs": [
    {
     "data": {
      "text/html": [
       "<img src=\"dikk1.jpg\" width=\"300\" height=\"300\"/>"
      ],
      "text/plain": [
       "<IPython.core.display.Image object>"
      ]
     },
     "execution_count": 2,
     "metadata": {},
     "output_type": "execute_result"
    }
   ],
   "source": [
    "# import image module\n",
    "from IPython.display import Image\n",
    "  \n",
    "# get the image\n",
    "Image(url = \"dikk1.jpg\", width=300, height=300)"
   ]
  },
  {
   "cell_type": "code",
   "execution_count": 3,
   "id": "c1fbb1c1",
   "metadata": {},
   "outputs": [
    {
     "name": "stdout",
     "output_type": "stream",
     "text": [
      "Vertex \t Distance from Source\n",
      "0 \t\t 0\n",
      "1 \t\t 9\n",
      "2 \t\t 14\n",
      "3 \t\t 15\n",
      "4 \t\t 32\n",
      "5 \t\t 35\n",
      "6 \t\t 46\n",
      "7 \t\t 51\n"
     ]
    }
   ],
   "source": [
    "g_1 = Graph(8)\n",
    "g_1.graph = [\n",
    "   #   V #   0  1   2   3   4  5  6  7     \n",
    "             [0, 9, 14, 15, 0, 0, 0, 0 ], # 0\n",
    "             [0, 0,  0, 0, 24, 0, 0, 0 ], # 1\n",
    "             [0, 0, 0, 5, 18, 30, 0, 0 ], # 2\n",
    "             [0, 0, 0, 0, 0, 20, 0, 44 ], # 3 \n",
    "             [0, 0, 0, 0, 0,  0, 0, 19 ], # 4\n",
    "             [0, 0, 0, 0, 0, 0, 11, 16 ], # 5\n",
    "             [0, 0, 0, 0, 6, 0, 0, 6 ],   # 6 \n",
    "             [0, 0, 0, 0, 0, 0, 0, 0 ]    # 7 \n",
    "            ]\n",
    "g_1.dijkstra(0)\n",
    "\n",
    "\n"
   ]
  },
  {
   "cell_type": "code",
   "execution_count": 4,
   "id": "50c87a81",
   "metadata": {},
   "outputs": [
    {
     "data": {
      "text/html": [
       "<img src=\"dikk2.jpg\" width=\"300\" height=\"300\"/>"
      ],
      "text/plain": [
       "<IPython.core.display.Image object>"
      ]
     },
     "execution_count": 4,
     "metadata": {},
     "output_type": "execute_result"
    }
   ],
   "source": [
    "# import image module\n",
    "from IPython.display import Image\n",
    "  \n",
    "# get the image\n",
    "Image(url = \"dikk2.jpg\", width=300, height=300)"
   ]
  },
  {
   "cell_type": "code",
   "execution_count": 5,
   "id": "61ddea7a",
   "metadata": {},
   "outputs": [
    {
     "name": "stdout",
     "output_type": "stream",
     "text": [
      "Vertex \t Distance from Source\n",
      "0 \t\t 0\n",
      "1 \t\t 1.5\n",
      "2 \t\t 3.5\n",
      "3 \t\t 6.5\n",
      "4 \t\t 2\n",
      "5 \t\t 5\n",
      "6 \t\t 7\n"
     ]
    }
   ],
   "source": [
    "g_2 = Graph(7)\n",
    "g_2.graph = [\n",
    "   #   V #   0  1   2   3   4  5  6      \n",
    "             [0, 1.5, 0, 0, 2, 0, 0], \n",
    "             [0, 0, 2, 0, 0, 0, 0] , # 1\n",
    "             [0, 0, 0, 3, 0, 0, 0] , # 2\n",
    "             [0, 0, 0, 0, 0, 0, 4] , # 3 \n",
    "             [0, 0, 0, 0, 0, 3, 0] , # 4\n",
    "             [0, 0, 0, 0, 0, 0, 2]  ,# 5\n",
    "             [0, 0, 0, 0, 0, 0, 0]  ,  # 6 \n",
    "            ]\n",
    "g_2.dijkstra(0)\n",
    "\n"
   ]
  },
  {
   "cell_type": "code",
   "execution_count": 6,
   "id": "6851b54e",
   "metadata": {},
   "outputs": [
    {
     "data": {
      "text/html": [
       "<img src=\"dikk3.jpg\" width=\"300\" height=\"300\"/>"
      ],
      "text/plain": [
       "<IPython.core.display.Image object>"
      ]
     },
     "execution_count": 6,
     "metadata": {},
     "output_type": "execute_result"
    }
   ],
   "source": [
    "# import image module\n",
    "from IPython.display import Image\n",
    "  \n",
    "# get the image\n",
    "Image(url = \"dikk3.jpg\", width=300, height=300)"
   ]
  },
  {
   "cell_type": "code",
   "execution_count": 7,
   "id": "fe37230f",
   "metadata": {},
   "outputs": [
    {
     "name": "stdout",
     "output_type": "stream",
     "text": [
      "Vertex \t Distance from Source\n",
      "0 \t\t 0\n",
      "1 \t\t 6\n",
      "2 \t\t 9\n",
      "3 \t\t 8\n",
      "4 \t\t 14\n",
      "5 \t\t 3\n",
      "6 \t\t 4\n",
      "7 \t\t 9\n",
      "8 \t\t 7\n",
      "9 \t\t 10\n"
     ]
    }
   ],
   "source": [
    "g_3 = Graph(10)\n",
    "g_3.graph = [\n",
    "           [0, 6, 0, 0, 0, 3, 0, 0, 0, 0],\n",
    "           [0, 0, 3, 2, 0, 0, 0, 0, 0, 0],\n",
    "           [0, 0, 0, 1, 5, 0, 0, 0, 0, 0],\n",
    "           [0, 2, 0, 1, 8, 0, 0, 0, 0, 0],\n",
    "           [0, 0, 5, 8, 0, 0, 0, 0, 5, 5],\n",
    "           [3, 0, 0, 0, 0, 0, 1, 7, 0, 0],\n",
    "           [0, 0, 0, 0, 0, 1, 0, 0, 3, 0],\n",
    "           [0, 0, 0, 0, 0, 7, 0, 0, 2, 0],\n",
    "           [0, 0, 0, 0, 0, 0, 3, 2, 0, 3],\n",
    "           [0, 0, 0, 0, 5, 0, 0, 0, 3, 0],\n",
    "           ]\n",
    "g_3.dijkstra(0)"
   ]
  },
  {
   "cell_type": "code",
   "execution_count": null,
   "id": "3698ddc3",
   "metadata": {},
   "outputs": [],
   "source": []
  }
 ],
 "metadata": {
  "kernelspec": {
   "display_name": "Python 3 (ipykernel)",
   "language": "python",
   "name": "python3"
  },
  "language_info": {
   "codemirror_mode": {
    "name": "ipython",
    "version": 3
   },
   "file_extension": ".py",
   "mimetype": "text/x-python",
   "name": "python",
   "nbconvert_exporter": "python",
   "pygments_lexer": "ipython3",
   "version": "3.9.12"
  }
 },
 "nbformat": 4,
 "nbformat_minor": 5
}
